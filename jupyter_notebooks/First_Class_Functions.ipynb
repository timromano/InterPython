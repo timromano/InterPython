{
 "cells": [
  {
   "cell_type": "markdown",
   "metadata": {},
   "source": [
    "A programming language is said to have first-class fucntion if it treats functions as \"first-class\" citizens.\n",
    "\n",
    "Sometimes called \"first-class objects\"."
   ]
  },
  {
   "cell_type": "code",
   "execution_count": 8,
   "metadata": {},
   "outputs": [],
   "source": [
    "def square(x):\n",
    "    return x**2"
   ]
  },
  {
   "cell_type": "code",
   "execution_count": 9,
   "metadata": {},
   "outputs": [
    {
     "name": "stdout",
     "output_type": "stream",
     "text": [
      "<function square at 0x0000020B3006A488>\n",
      "25\n"
     ]
    }
   ],
   "source": [
    "f = square(5)\n",
    "print (square)\n",
    "print (f)"
   ]
  },
  {
   "cell_type": "markdown",
   "metadata": {},
   "source": [
    "You can make f take the fucntion be removing the ()"
   ]
  },
  {
   "cell_type": "code",
   "execution_count": 5,
   "metadata": {},
   "outputs": [
    {
     "name": "stdout",
     "output_type": "stream",
     "text": [
      "<function square at 0x0000020B3006AD90>\n",
      "<function square at 0x0000020B3006AD90>\n"
     ]
    }
   ],
   "source": [
    "f = square\n",
    "print(square)\n",
    "print(f)"
   ]
  },
  {
   "cell_type": "markdown",
   "metadata": {},
   "source": [
    "**Square** is a first-class function. "
   ]
  },
  {
   "cell_type": "markdown",
   "metadata": {},
   "source": [
    "If a fucntion accept fucntions as arguement or returns a fucntion, this is a **higher order function**"
   ]
  },
  {
   "cell_type": "code",
   "execution_count": 11,
   "metadata": {
    "collapsed": true
   },
   "outputs": [],
   "source": [
    "def square(x):\n",
    "    return x**2\n",
    "\n",
    "def cube(x):\n",
    "    return(x**3)\n",
    "\n",
    "def my_map(func, arg_list):\n",
    "    result = []\n",
    "    for i in arg_list:\n",
    "        result.append(func(i))\n",
    "    return result"
   ]
  },
  {
   "cell_type": "code",
   "execution_count": 12,
   "metadata": {},
   "outputs": [
    {
     "name": "stdout",
     "output_type": "stream",
     "text": [
      "[1, 4, 9, 16, 25]\n",
      "[1, 8, 27, 64, 125]\n"
     ]
    }
   ],
   "source": [
    "#test it\n",
    "squares= my_map(square, [1,2,3,4,5])\n",
    "print(squares)\n",
    "\n",
    "cubes = my_map(cube, [1,2,3,4,5])\n",
    "print(cubes)"
   ]
  },
  {
   "cell_type": "markdown",
   "metadata": {},
   "source": [
    "## Local Fucntions\n",
    "Remember the def keyword simply binds the bod of the function to a name. Just like any other object.\n",
    "\n",
    "**def** is executed at runtime. Functions are defined at runtime. "
   ]
  },
  {
   "cell_type": "code",
   "execution_count": 13,
   "metadata": {
    "collapsed": true
   },
   "outputs": [],
   "source": [
    "def func1():\n",
    "    \"\"\"Regular Fucntion\"\"\"\n",
    "    def local_func():\n",
    "        \"\"\"Local Function\"\"\"\n",
    "        a = \"Hello\"\n",
    "        b = \"World\"\n",
    "        return a + b\n",
    "    \n",
    "    x = 1\n",
    "    y = 2\n",
    "    return x + y"
   ]
  },
  {
   "cell_type": "code",
   "execution_count": 17,
   "metadata": {},
   "outputs": [
    {
     "name": "stdout",
     "output_type": "stream",
     "text": [
      "3\n"
     ]
    }
   ],
   "source": [
    "x=func1()\n",
    "print(x)"
   ]
  },
  {
   "cell_type": "markdown",
   "metadata": {},
   "source": [
    "## LEGB Rule\n",
    "Local fucntions are bound by the LEGB rule (local, enclosing, global, built-in).\n",
    "\n",
    "Local fucntions are not members of the containing fucntion. It is a local name binding. "
   ]
  },
  {
   "cell_type": "code",
   "execution_count": 22,
   "metadata": {
    "collapsed": true
   },
   "outputs": [],
   "source": [
    "g = \"global\"\n",
    "def outer(p='param'):\n",
    "    l = \"local\"\n",
    "    def iner():\n",
    "        print(g, p, l)\n",
    "    #calling local function\n",
    "    iner()\n"
   ]
  },
  {
   "cell_type": "code",
   "execution_count": 23,
   "metadata": {},
   "outputs": [
    {
     "name": "stdout",
     "output_type": "stream",
     "text": [
      "global param local\n"
     ]
    }
   ],
   "source": [
    "outer()"
   ]
  },
  {
   "cell_type": "markdown",
   "metadata": {},
   "source": [
    "## Local Fucntion Notes\n",
    "1. Useful for specialized, one-off fucntions\n",
    "2. Help with code organization to make it more readable\n",
    "3. Similar to lambdas, but more general\n",
    "\n",
    "3.1 may contain multiple expressions\n",
    "\n",
    "3.2 may contain statements\n"
   ]
  },
  {
   "cell_type": "markdown",
   "metadata": {},
   "source": [
    "## Returning a function from a function"
   ]
  },
  {
   "cell_type": "code",
   "execution_count": 24,
   "metadata": {
    "collapsed": true
   },
   "outputs": [],
   "source": [
    "def enclosing():\n",
    "    def local_func():\n",
    "        print(\"Local func\")\n",
    "    return local_func # no parenthesis\n"
   ]
  },
  {
   "cell_type": "code",
   "execution_count": 26,
   "metadata": {},
   "outputs": [
    {
     "name": "stdout",
     "output_type": "stream",
     "text": [
      "Local func\n"
     ]
    }
   ],
   "source": [
    "lf = enclosing()\n",
    "lf()"
   ]
  },
  {
   "cell_type": "code",
   "execution_count": null,
   "metadata": {
    "collapsed": true
   },
   "outputs": [],
   "source": []
  }
 ],
 "metadata": {
  "kernelspec": {
   "display_name": "Python 3",
   "language": "python",
   "name": "python3"
  },
  "language_info": {
   "codemirror_mode": {
    "name": "ipython",
    "version": 3
   },
   "file_extension": ".py",
   "mimetype": "text/x-python",
   "name": "python",
   "nbconvert_exporter": "python",
   "pygments_lexer": "ipython3",
   "version": "3.5.1"
  }
 },
 "nbformat": 4,
 "nbformat_minor": 2
}
