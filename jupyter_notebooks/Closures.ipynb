{
 "cells": [
  {
   "cell_type": "markdown",
   "metadata": {},
   "source": [
    "## Closures \n",
    "A record storing a fucntion toegether with an environment: a mapping associating each free variable of the function with a value or storage location to which the name was bound when the closure was created. \n",
    "\n",
    "Note: unlike a regualr fucntion, closures alow a function to access those capture variables through the closures' reference to them. "
   ]
  },
  {
   "cell_type": "code",
   "execution_count": 9,
   "metadata": {},
   "outputs": [],
   "source": [
    "def outer_func(message):\n",
    "    def inner_func():\n",
    "        print(message)\n",
    "    return inner_func\n"
   ]
  },
  {
   "cell_type": "code",
   "execution_count": 12,
   "metadata": {},
   "outputs": [
    {
     "name": "stdout",
     "output_type": "stream",
     "text": [
      "<function outer_func.<locals>.inner_func at 0x00000212B72DABF8>\n",
      "inner_func\n"
     ]
    }
   ],
   "source": [
    "myf = outer_func(\"Hi\")\n",
    "print(myf)\n",
    "print(myf.__name__)"
   ]
  },
  {
   "cell_type": "code",
   "execution_count": 13,
   "metadata": {},
   "outputs": [
    {
     "name": "stdout",
     "output_type": "stream",
     "text": [
      "Hi\n",
      "Hi\n",
      "Hi\n"
     ]
    }
   ],
   "source": [
    "myf()\n",
    "myf()\n",
    "myf()"
   ]
  },
  {
   "cell_type": "code",
   "execution_count": 15,
   "metadata": {},
   "outputs": [
    {
     "name": "stdout",
     "output_type": "stream",
     "text": [
      "(<cell at 0x00000212B72E3348: str object at 0x00000212B72F5148>,)\n",
      "Hey\n",
      "There\n"
     ]
    }
   ],
   "source": [
    "myf1 = outer_func(\"Hey\")\n",
    "print(myf1.__closure__)\n",
    "myf2 = outer_func(\"There\")\n",
    "\n",
    "myf1()\n",
    "myf2()"
   ]
  },
  {
   "cell_type": "markdown",
   "metadata": {},
   "source": [
    "## Nonlocal keyword\n",
    "Demo on new name binding for a message variable"
   ]
  },
  {
   "cell_type": "code",
   "execution_count": 21,
   "metadata": {},
   "outputs": [
    {
     "name": "stdout",
     "output_type": "stream",
     "text": [
      "Enclosing message: global\n",
      "Enclosing message enclosing\n",
      "Enclosing message local\n",
      "Enclosing message local\n",
      "Enclosing message: global\n"
     ]
    }
   ],
   "source": [
    "message = \"global\"\n",
    "def enclosing():\n",
    "    message = \"enclosing\"\n",
    "    def local():\n",
    "        #global message\n",
    "        nonlocal message\n",
    "        message = \"local\"\n",
    "        print (\"Enclosing message\", message)\n",
    "        \n",
    "    print (\"Enclosing message\", message)\n",
    "    local()\n",
    "    print (\"Enclosing message\", message)\n",
    "    \n",
    "print (\"Enclosing message:\", message)\n",
    "enclosing()\n",
    "print (\"Enclosing message:\", message)"
   ]
  },
  {
   "cell_type": "code",
   "execution_count": null,
   "metadata": {
    "collapsed": true
   },
   "outputs": [],
   "source": []
  }
 ],
 "metadata": {
  "kernelspec": {
   "display_name": "Python 3",
   "language": "python",
   "name": "python3"
  },
  "language_info": {
   "codemirror_mode": {
    "name": "ipython",
    "version": 3
   },
   "file_extension": ".py",
   "mimetype": "text/x-python",
   "name": "python",
   "nbconvert_exporter": "python",
   "pygments_lexer": "ipython3",
   "version": "3.5.1"
  }
 },
 "nbformat": 4,
 "nbformat_minor": 2
}
