{
 "cells": [
  {
   "cell_type": "markdown",
   "metadata": {},
   "source": [
    "# Strings and Rpreresentations\n",
    "Discuss the differences between strings and representations. This will make our code easier to maintain, debug, and make it human-friendly-readable.\n",
    "\n",
    "### Operator Overloading\n"
   ]
  },
  {
   "cell_type": "code",
   "execution_count": 2,
   "metadata": {},
   "outputs": [
    {
     "name": "stdout",
     "output_type": "stream",
     "text": [
      "3\n",
      "ab\n"
     ]
    }
   ],
   "source": [
    "print (1 + 2)\n",
    "print (\"a\" + \"b\")"
   ]
  },
  {
   "cell_type": "markdown",
   "metadata": {},
   "source": [
    "So how is the formatting different between strings and integers?"
   ]
  },
  {
   "cell_type": "code",
   "execution_count": 20,
   "metadata": {},
   "outputs": [],
   "source": [
    "class Employee:\n",
    "    num_of_employees = 0\n",
    "    raise_ammount = 1.04\n",
    "    \n",
    "    def __init__(self, first, last, pay):\n",
    "        self.first = first\n",
    "        self.last = last\n",
    "        self.pay = pay\n",
    "        self.email = self.first + \".\" + self.last + \"@weber.edu\"\n",
    "        Employee.num_of_employees += 1\n",
    "        \n",
    "    def fullname(self):\n",
    "        return \"{} {}\".format(self.first, self.last)\n",
    "    \n",
    "    def apply_raise(self):\n",
    "        self.pay = int(self.pay * self.raise_ammount)"
   ]
  },
  {
   "cell_type": "code",
   "execution_count": 21,
   "metadata": {
    "collapsed": true
   },
   "outputs": [],
   "source": [
    "e1 = Employee(\"Joe\", \"Blow\", 60000)\n",
    "e2 = Employee(\"Mario\", \"Har\", 50000)"
   ]
  },
  {
   "cell_type": "code",
   "execution_count": 22,
   "metadata": {},
   "outputs": [
    {
     "name": "stdout",
     "output_type": "stream",
     "text": [
      "<class 'int'>\n",
      "<__main__.Employee object at 0x000002144FB79198>\n"
     ]
    }
   ],
   "source": [
    "print(int)\n",
    "print(e1)"
   ]
  },
  {
   "cell_type": "code",
   "execution_count": 9,
   "metadata": {},
   "outputs": [
    {
     "data": {
      "text/plain": [
       "\"<class 'int'>\""
      ]
     },
     "execution_count": 9,
     "metadata": {},
     "output_type": "execute_result"
    }
   ],
   "source": [
    "repr(int)"
   ]
  },
  {
   "cell_type": "code",
   "execution_count": 10,
   "metadata": {},
   "outputs": [
    {
     "data": {
      "text/plain": [
       "\"<class 'int'>\""
      ]
     },
     "execution_count": 10,
     "metadata": {},
     "output_type": "execute_result"
    }
   ],
   "source": [
    "str(int)"
   ]
  },
  {
   "cell_type": "code",
   "execution_count": 11,
   "metadata": {},
   "outputs": [
    {
     "name": "stdout",
     "output_type": "stream",
     "text": [
      "[1, 2, 3, 4]\n",
      "[1, 2, 3, 4]\n",
      "Sample String\n",
      "'Sample String'\n"
     ]
    }
   ],
   "source": [
    "a = [1, 2, 3, 4]\n",
    "b = \"Sample String\"\n",
    "print(str(a))\n",
    "print(repr(a))\n",
    "\n",
    "print(str(b))\n",
    "print(repr(b))"
   ]
  },
  {
   "cell_type": "markdown",
   "metadata": {},
   "source": [
    "The goal for \\_\\_repr\\_\\_ is to be unambiguous \n",
    "\n",
    "The goal of \\_\\_str\\_\\_ is to be readable to regualr users"
   ]
  },
  {
   "cell_type": "code",
   "execution_count": 12,
   "metadata": {},
   "outputs": [
    {
     "name": "stdout",
     "output_type": "stream",
     "text": [
      "2017-06-11 04:35:48.528551\n",
      "2017-06-11 04:35:48.528551\n"
     ]
    }
   ],
   "source": [
    "import datetime\n",
    "a = datetime.datetime(2017, 6, 11, 4, 35, 48, 528551)\n",
    "b = \"2017-06-11 04:35:48.528551\"\n",
    "\n",
    "print(str(a))\n",
    "print (str(b))"
   ]
  },
  {
   "cell_type": "code",
   "execution_count": 13,
   "metadata": {},
   "outputs": [
    {
     "name": "stdout",
     "output_type": "stream",
     "text": [
      "datetime.datetime(2017, 6, 11, 4, 35, 48, 528551)\n",
      "'2017-06-11 04:35:48.528551'\n"
     ]
    }
   ],
   "source": [
    "print (repr(a))\n",
    "print (repr(b))"
   ]
  },
  {
   "cell_type": "code",
   "execution_count": 17,
   "metadata": {
    "collapsed": true
   },
   "outputs": [],
   "source": [
    "class Employee:\n",
    "    num_of_employees = 0\n",
    "    raise_ammount = 1.04\n",
    "    \n",
    "    def __init__(self, first, last, pay):\n",
    "        self.first = first\n",
    "        self.last = last\n",
    "        self.pay = pay\n",
    "        self.email = self.first + \".\" + self.last + \"@weber.edu\"\n",
    "        Employee.num_of_employees += 1\n",
    "        \n",
    "    def fullname(self):\n",
    "        return \"{} {}\".format(self.first, self.last)\n",
    "    \n",
    "    def apply_raise(self):\n",
    "        self.pay = int(self.pay * self.raise_ammount)\n",
    "        \n",
    "    def __repr__(self):\n",
    "        return \"Employee('{}', '{}', '{}')\".format(\n",
    "            self.first, self.last, self.pay)"
   ]
  },
  {
   "cell_type": "code",
   "execution_count": 18,
   "metadata": {},
   "outputs": [
    {
     "name": "stdout",
     "output_type": "stream",
     "text": [
      "Employee('Joe', 'Blow', '60000')\n"
     ]
    }
   ],
   "source": [
    "e1 = Employee(\"Joe\", \"Blow\", 60000)\n",
    "e2 = Employee(\"Mario\", \"Har\", 50000)\n",
    "\n",
    "print(repr(e1))"
   ]
  },
  {
   "cell_type": "code",
   "execution_count": 19,
   "metadata": {},
   "outputs": [
    {
     "name": "stdout",
     "output_type": "stream",
     "text": [
      "Employee('Joe', 'Blow', '60000')\n"
     ]
    }
   ],
   "source": [
    "print(e1)"
   ]
  },
  {
   "cell_type": "markdown",
   "metadata": {},
   "source": [
    "This is more readable to recreate this object. \n",
    "\n",
    "No create the \\_\\_str\\_\\_"
   ]
  },
  {
   "cell_type": "code",
   "execution_count": 26,
   "metadata": {
    "collapsed": true
   },
   "outputs": [],
   "source": [
    "class Employee:\n",
    "    num_of_employees = 0\n",
    "    raise_ammount = 1.04\n",
    "    \n",
    "    def __init__(self, first, last, pay):\n",
    "        self.first = first\n",
    "        self.last = last\n",
    "        self.pay = pay\n",
    "        self.email = self.first + \".\" + self.last + \"@weber.edu\"\n",
    "        Employee.num_of_employees += 1\n",
    "    \n",
    "    @property\n",
    "    def fullname(self):\n",
    "        return \"{} {}\".format(self.first, self.last)\n",
    "    \n",
    "    def apply_raise(self):\n",
    "        self.pay = int(self.pay * self.raise_ammount)\n",
    "        \n",
    "    def __repr__(self):\n",
    "        return \"Employee('{}', '{}', '{}')\".format(\n",
    "            self.first, self.last, self.pay)\n",
    "    \n",
    "    def __str__(self):\n",
    "        return \"{} - {}\".format(self.fullname, self.email)"
   ]
  },
  {
   "cell_type": "code",
   "execution_count": 27,
   "metadata": {},
   "outputs": [
    {
     "name": "stdout",
     "output_type": "stream",
     "text": [
      "Joe Garcia - Joe.Garcia@weber.edu\n",
      "Joe Garcia - Joe.Garcia@weber.edu\n",
      "Employee('Joe', 'Garcia', '60000')\n"
     ]
    }
   ],
   "source": [
    "e1 = Employee(\"Joe\", \"Garcia\", 60000)\n",
    "e2 = Employee(\"Mario\", \"D\", 50000)\n",
    "\n",
    "print(e1)\n",
    "print(str(e1))\n",
    "print(repr(e1))\n"
   ]
  },
  {
   "cell_type": "markdown",
   "metadata": {},
   "source": [
    "**One more example:**"
   ]
  },
  {
   "cell_type": "code",
   "execution_count": 36,
   "metadata": {
    "collapsed": true
   },
   "outputs": [],
   "source": [
    "class Point2D:\n",
    "    def __init__(self, x, y):\n",
    "        self.x = x\n",
    "        self.y = y\n",
    "        \n",
    "    def __str__(self):\n",
    "        return '({},  {})'.format(self.x, self.y)\n",
    "    \n",
    "    def __repr__(self):\n",
    "        return 'Point2D(x={}, y={})'.format(self.x, self.y)"
   ]
  },
  {
   "cell_type": "code",
   "execution_count": 37,
   "metadata": {},
   "outputs": [
    {
     "name": "stdout",
     "output_type": "stream",
     "text": [
      "(1,  132)\n",
      "Point2D(x=1, y=132)\n"
     ]
    }
   ],
   "source": [
    "p1 = Point2D(1, 132)\n",
    "print(str(p1))\n",
    "print(repr(p1))"
   ]
  },
  {
   "cell_type": "code",
   "execution_count": 39,
   "metadata": {},
   "outputs": [
    {
     "name": "stdout",
     "output_type": "stream",
     "text": [
      "(1,  132)\n"
     ]
    }
   ],
   "source": [
    "print(p1)"
   ]
  },
  {
   "cell_type": "code",
   "execution_count": 40,
   "metadata": {},
   "outputs": [
    {
     "name": "stdout",
     "output_type": "stream",
     "text": [
      "The circle is centered at (1,  132)\n"
     ]
    }
   ],
   "source": [
    "#this helps in \n",
    "print(\"The circle is centered at {}\".format(p1))"
   ]
  },
  {
   "cell_type": "code",
   "execution_count": 43,
   "metadata": {},
   "outputs": [
    {
     "name": "stdout",
     "output_type": "stream",
     "text": [
      "The circle is centered at Point2D(x=1, y=132)\n"
     ]
    }
   ],
   "source": [
    "#this is not helpful\n",
    "print(\"The circle is centered at {}\".format(repr(p1)))"
   ]
  },
  {
   "cell_type": "markdown",
   "metadata": {},
   "source": [
    "Python used the repr when it prints part of a list, dictionary, or other built-in  type.\n"
   ]
  },
  {
   "cell_type": "code",
   "execution_count": 44,
   "metadata": {
    "collapsed": true
   },
   "outputs": [],
   "source": [
    "l = [Point2D(x = 0, y = 0), Point2D(x = 1, y = 1), Point2D(x = -1, y = 5)]"
   ]
  },
  {
   "cell_type": "code",
   "execution_count": 45,
   "metadata": {},
   "outputs": [
    {
     "data": {
      "text/plain": [
       "'[Point2D(x=0, y=0), Point2D(x=1, y=1), Point2D(x=-1, y=5)]'"
      ]
     },
     "execution_count": 45,
     "metadata": {},
     "output_type": "execute_result"
    }
   ],
   "source": [
    "str(l)"
   ]
  },
  {
   "cell_type": "code",
   "execution_count": 46,
   "metadata": {},
   "outputs": [
    {
     "data": {
      "text/plain": [
       "'[Point2D(x=0, y=0), Point2D(x=1, y=1), Point2D(x=-1, y=5)]'"
      ]
     },
     "execution_count": 46,
     "metadata": {},
     "output_type": "execute_result"
    }
   ],
   "source": [
    "repr(l)"
   ]
  },
  {
   "cell_type": "code",
   "execution_count": 48,
   "metadata": {},
   "outputs": [],
   "source": [
    "l = [Point2D(i, i*2) for i in range(3)]"
   ]
  },
  {
   "cell_type": "code",
   "execution_count": 49,
   "metadata": {},
   "outputs": [
    {
     "name": "stdout",
     "output_type": "stream",
     "text": [
      "[Point2D(x=0, y=0), Point2D(x=1, y=2), Point2D(x=2, y=4)]\n"
     ]
    }
   ],
   "source": [
    "print (l)"
   ]
  },
  {
   "cell_type": "code",
   "execution_count": 51,
   "metadata": {},
   "outputs": [],
   "source": [
    "#a dictionary\n",
    "l = {i: Point2D(i, i*2) for i in range(3)}"
   ]
  },
  {
   "cell_type": "code",
   "execution_count": 52,
   "metadata": {},
   "outputs": [
    {
     "name": "stdout",
     "output_type": "stream",
     "text": [
      "{0: Point2D(x=0, y=0), 1: Point2D(x=1, y=2), 2: Point2D(x=2, y=4)}\n"
     ]
    }
   ],
   "source": [
    "print(l)"
   ]
  },
  {
   "cell_type": "markdown",
   "metadata": {},
   "source": [
    "### Special method \\_\\_()format\n",
    "invoked by str.format()"
   ]
  },
  {
   "cell_type": "code",
   "execution_count": 58,
   "metadata": {
    "collapsed": true
   },
   "outputs": [],
   "source": [
    "class Point2D:\n",
    "    def __init__(self, x, y):\n",
    "        self.x = x\n",
    "        self.y = y\n",
    "        \n",
    "    def __str__(self):\n",
    "        return '({},  {})'.format(self.x, self.y)\n",
    "    \n",
    "    def __repr__(self):\n",
    "        return 'Point2D(x={}, y={})'.format(self.x, self.y)\n",
    "    \n",
    "    def __format__(self, f):\n",
    "        return \"Formated point: {}, {}\".format(self.x, self.y)"
   ]
  },
  {
   "cell_type": "code",
   "execution_count": 61,
   "metadata": {},
   "outputs": [
    {
     "data": {
      "text/plain": [
       "'This is a point Formated point: 2, 3'"
      ]
     },
     "execution_count": 61,
     "metadata": {},
     "output_type": "execute_result"
    }
   ],
   "source": [
    "\"This is a point {}\".format(Point2D(2, 3))"
   ]
  },
  {
   "cell_type": "code",
   "execution_count": 62,
   "metadata": {
    "collapsed": true
   },
   "outputs": [],
   "source": [
    "class Point2D:\n",
    "    def __init__(self, x, y):\n",
    "        self.x = x\n",
    "        self.y = y\n",
    "        \n",
    "    def __str__(self):\n",
    "        return '({},  {})'.format(self.x, self.y)\n",
    "    \n",
    "    def __repr__(self):\n",
    "        return 'Point2D(x={}, y={})'.format(self.x, self.y)\n",
    "    \n",
    "    def __format__(self, f):\n",
    "        if f == 'r':\n",
    "            return \"{}, {}\".format(self.x, self.y)\n",
    "        else:\n",
    "            return \"{}, {}\".format(self.y, self.x)\n"
   ]
  },
  {
   "cell_type": "code",
   "execution_count": 63,
   "metadata": {},
   "outputs": [
    {
     "data": {
      "text/plain": [
       "'8, 2'"
      ]
     },
     "execution_count": 63,
     "metadata": {},
     "output_type": "execute_result"
    }
   ],
   "source": [
    "\"{}\".format(Point2D(2,8))"
   ]
  },
  {
   "cell_type": "code",
   "execution_count": 64,
   "metadata": {},
   "outputs": [
    {
     "data": {
      "text/plain": [
       "'2, 8'"
      ]
     },
     "execution_count": 64,
     "metadata": {},
     "output_type": "execute_result"
    }
   ],
   "source": [
    "\"{:r}\".format(Point2D(2,8))"
   ]
  },
  {
   "cell_type": "markdown",
   "metadata": {},
   "source": [
    "The default dunder __format__ just calls dunder __str__ by defualt. "
   ]
  },
  {
   "cell_type": "markdown",
   "metadata": {},
   "source": [
    "### The rerplib \n",
    "The stasndard library module **reprlib** support alternative implementation of **repr()**\n",
    "- limits otherwise excessive string length\n",
    "- useful for large colections"
   ]
  },
  {
   "cell_type": "code",
   "execution_count": 67,
   "metadata": {},
   "outputs": [
    {
     "name": "stdout",
     "output_type": "stream",
     "text": [
      "1000000\n"
     ]
    },
    {
     "data": {
      "text/plain": [
       "'[Point2D(x=0, y=0), Point2D(x=0, y=1), Point2D(x=0, y=2), Point2D(x=0, y=3), Point2D(x=0, y=4), Point2D(x=0, y=5), ...]'"
      ]
     },
     "execution_count": 67,
     "metadata": {},
     "output_type": "execute_result"
    }
   ],
   "source": [
    "import reprlib\n",
    "points = [Point2D(x,y) for x in range(1000) for y in range (1000)]\n",
    "print (len(points))\n",
    "reprlib.repr(points)"
   ]
  },
  {
   "cell_type": "markdown",
   "metadata": {},
   "source": [
    "## asci(), ord(), chr()\n",
    "#### ascii()"
   ]
  },
  {
   "cell_type": "code",
   "execution_count": 68,
   "metadata": {},
   "outputs": [
    {
     "name": "stdout",
     "output_type": "stream",
     "text": [
      "Help on built-in function ascii in module builtins:\n",
      "\n",
      "ascii(obj, /)\n",
      "    Return an ASCII-only representation of an object.\n",
      "    \n",
      "    As repr(), return a string containing a printable representation of an\n",
      "    object, but escape the non-ASCII characters in the string returned by\n",
      "    repr() using \\\\x, \\\\u or \\\\U escapes. This generates a string similar\n",
      "    to that returned by repr() in Python 2.\n",
      "\n"
     ]
    }
   ],
   "source": [
    "help (ascii)\n"
   ]
  },
  {
   "cell_type": "code",
   "execution_count": 74,
   "metadata": {},
   "outputs": [
    {
     "name": "stdout",
     "output_type": "stream",
     "text": [
      "'Mo\\xf1a'\n"
     ]
    }
   ],
   "source": [
    "x = \"Moña\"\n",
    "\n",
    "y= ascii(x)\n",
    "print(y)"
   ]
  },
  {
   "cell_type": "markdown",
   "metadata": {},
   "source": [
    "### ord()\n",
    "Converts a single charachter to its integer unicode codepoint.\n",
    "\n"
   ]
  },
  {
   "cell_type": "code",
   "execution_count": 75,
   "metadata": {},
   "outputs": [
    {
     "name": "stdout",
     "output_type": "stream",
     "text": [
      "Help on built-in function ord in module builtins:\n",
      "\n",
      "ord(c, /)\n",
      "    Return the Unicode code point for a one-character string.\n",
      "\n"
     ]
    }
   ],
   "source": [
    "help(ord)"
   ]
  },
  {
   "cell_type": "code",
   "execution_count": 79,
   "metadata": {},
   "outputs": [
    {
     "data": {
      "text/plain": [
       "190"
      ]
     },
     "execution_count": 79,
     "metadata": {},
     "output_type": "execute_result"
    }
   ],
   "source": [
    "x = \"¾\" \n",
    "ord(x)"
   ]
  },
  {
   "cell_type": "markdown",
   "metadata": {},
   "source": [
    "### chr()\n",
    "converts a integer unidoe codepoint to a single charachter string"
   ]
  },
  {
   "cell_type": "code",
   "execution_count": 80,
   "metadata": {},
   "outputs": [
    {
     "data": {
      "text/plain": [
       "'¾'"
      ]
     },
     "execution_count": 80,
     "metadata": {},
     "output_type": "execute_result"
    }
   ],
   "source": [
    "chr(190)"
   ]
  },
  {
   "cell_type": "code",
   "execution_count": 84,
   "metadata": {},
   "outputs": [
    {
     "name": "stdout",
     "output_type": "stream",
     "text": [
      " \n",
      "¡\n",
      "¢\n",
      "£\n",
      "¤\n",
      "¥\n",
      "¦\n",
      "§\n",
      "¨\n",
      "©\n",
      "ª\n",
      "«\n",
      "¬\n",
      "­\n",
      "®\n",
      "¯\n",
      "°\n",
      "±\n",
      "²\n",
      "³\n",
      "´\n",
      "µ\n",
      "¶\n",
      "·\n",
      "¸\n",
      "¹\n",
      "º\n",
      "»\n",
      "¼\n",
      "½\n",
      "¾\n",
      "¿\n",
      "À\n",
      "Á\n",
      "Â\n",
      "Ã\n",
      "Ä\n",
      "Å\n",
      "Æ\n",
      "Ç\n"
     ]
    }
   ],
   "source": [
    "for i in range(160,200):\n",
    "    print (chr(i))"
   ]
  },
  {
   "cell_type": "code",
   "execution_count": null,
   "metadata": {
    "collapsed": true
   },
   "outputs": [],
   "source": []
  }
 ],
 "metadata": {
  "kernelspec": {
   "display_name": "Python 3",
   "language": "python",
   "name": "python3"
  },
  "language_info": {
   "codemirror_mode": {
    "name": "ipython",
    "version": 3
   },
   "file_extension": ".py",
   "mimetype": "text/x-python",
   "name": "python",
   "nbconvert_exporter": "python",
   "pygments_lexer": "ipython3",
   "version": "3.5.1"
  }
 },
 "nbformat": 4,
 "nbformat_minor": 2
}
