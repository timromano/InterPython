{
 "cells": [
  {
   "cell_type": "markdown",
   "metadata": {},
   "source": [
    "# Inheritence and Subclasses\n",
    "We can create a subclass and get all the functionality from our parent class.class Employee:\n",
    "    num_of_employees = 0\n",
    "    raise_ammount = 1.04\n",
    "    \n",
    "    def __init__(self, first, last, pay):\n",
    "        self.first = first\n",
    "        self.last = last\n",
    "        self.pay = pay\n",
    "        self.email = self.first + \".\" + self.last + \"@weber.edu\"\n",
    "        Employee.num_of_employees += 1\n",
    "        \n",
    "    def fullname(self):\n",
    "        return \"{} {}\".format(self.first, self.last)\n",
    "    \n",
    "    def apply_raise(self):\n",
    "        self.pay = int(self.pay * self.raise_ammount)"
   ]
  },
  {
   "cell_type": "code",
   "execution_count": 3,
   "metadata": {
    "collapsed": true
   },
   "outputs": [],
   "source": [
    "class Employee:\n",
    "    num_of_employees = 0\n",
    "    raise_amount = 1.04\n",
    "    \n",
    "    def __init__(self, first, last, pay):\n",
    "        self.first = first\n",
    "        self.last = last\n",
    "        self.pay = pay\n",
    "        self.email = self.first + \".\" + self.last + \"@weber.edu\"\n",
    "        Employee.num_of_employees += 1\n",
    "        \n",
    "    @property\n",
    "    def fullname(self):\n",
    "        return \"{} {}\".format(self.first, self.last)\n",
    "    \n",
    "    def apply_raise(self):\n",
    "        self.pay = int(self.pay * self.raise_amount)"
   ]
  },
  {
   "cell_type": "code",
   "execution_count": 2,
   "metadata": {
    "collapsed": true
   },
   "outputs": [],
   "source": [
    "class Developer(Employee):\n",
    "    pass"
   ]
  },
  {
   "cell_type": "code",
   "execution_count": 6,
   "metadata": {},
   "outputs": [
    {
     "name": "stdout",
     "output_type": "stream",
     "text": [
      "Tom.Sawyer@weber.edu\n"
     ]
    }
   ],
   "source": [
    "d1 = Developer(\"Tom\", \"Sawyer\", 50)\n",
    "d2 = Developer(\"Huck\", \"Finn\", 60)\n",
    "print(d1.email)"
   ]
  },
  {
   "cell_type": "markdown",
   "metadata": {},
   "source": [
    "Python follows the chain of inheritence until it finds what it is looking for.\n",
    "This chain is called method resolution."
   ]
  },
  {
   "cell_type": "code",
   "execution_count": 7,
   "metadata": {},
   "outputs": [
    {
     "name": "stdout",
     "output_type": "stream",
     "text": [
      "Help on class Developer in module __main__:\n",
      "\n",
      "class Developer(Employee)\n",
      " |  Method resolution order:\n",
      " |      Developer\n",
      " |      Employee\n",
      " |      builtins.object\n",
      " |  \n",
      " |  Methods inherited from Employee:\n",
      " |  \n",
      " |  __init__(self, first, last, pay)\n",
      " |      Initialize self.  See help(type(self)) for accurate signature.\n",
      " |  \n",
      " |  apply_raise(self)\n",
      " |  \n",
      " |  fullname(self)\n",
      " |  \n",
      " |  ----------------------------------------------------------------------\n",
      " |  Data descriptors inherited from Employee:\n",
      " |  \n",
      " |  __dict__\n",
      " |      dictionary for instance variables (if defined)\n",
      " |  \n",
      " |  __weakref__\n",
      " |      list of weak references to the object (if defined)\n",
      " |  \n",
      " |  ----------------------------------------------------------------------\n",
      " |  Data and other attributes inherited from Employee:\n",
      " |  \n",
      " |  num_of_employees = 6\n",
      " |  \n",
      " |  raise_ammount = 1.04\n",
      "\n",
      "None\n"
     ]
    }
   ],
   "source": [
    "print(help(Developer))"
   ]
  },
  {
   "cell_type": "markdown",
   "metadata": {},
   "source": [
    "This class has the following **resolution order**:\n",
    "1. class Developer(Employee)\n",
    "2. method resolution order:\n",
    "    - Developer\n",
    "    - Employee\n",
    "    - builtins.object\n",
    "  \n",
    "every object in python has the builtins.object at the parent object. "
   ]
  },
  {
   "cell_type": "code",
   "execution_count": 9,
   "metadata": {},
   "outputs": [
    {
     "name": "stdout",
     "output_type": "stream",
     "text": [
      "50\n",
      "52\n"
     ]
    }
   ],
   "source": [
    "print(d1.pay)\n",
    "d1.apply_raise()\n",
    "print(d1.pay)"
   ]
  },
  {
   "cell_type": "markdown",
   "metadata": {},
   "source": [
    "Customize our class a little. Our developer will have a 10 percent raise. "
   ]
  },
  {
   "cell_type": "code",
   "execution_count": 4,
   "metadata": {
    "collapsed": true
   },
   "outputs": [],
   "source": [
    "class Developer(Employee):\n",
    "    raise_amount = 1.10"
   ]
  },
  {
   "cell_type": "code",
   "execution_count": 5,
   "metadata": {},
   "outputs": [
    {
     "name": "stdout",
     "output_type": "stream",
     "text": [
      "Tom.Sawyer@weber.edu\n",
      "50\n",
      "55\n"
     ]
    }
   ],
   "source": [
    "d1 = Developer(\"Tom\", \"Sawyer\", 50)\n",
    "d2 = Developer(\"Huck\", \"Finn\", 60)\n",
    "print(d1.email)\n",
    "print(d1.pay)\n",
    "d1.apply_raise()\n",
    "print(d1.pay)"
   ]
  },
  {
   "cell_type": "markdown",
   "metadata": {},
   "source": [
    "Initialize the developer class differently with more information than the base employee class. <br>\n",
    "Create a new dunder init method."
   ]
  },
  {
   "cell_type": "code",
   "execution_count": 54,
   "metadata": {
    "collapsed": true
   },
   "outputs": [],
   "source": [
    "class Developer(Employee):\n",
    "    raise_amount = 1.10\n",
    "    \n",
    "    def __init__(self, first, last, pay, lang):\n",
    "        #Employee.__init__(self, first, last, pay) #one way to call base init.\n",
    "        #The most common way to call base init if you have single inheritence is using super().\n",
    "        super().__init__(first, last, pay)\n",
    "        self.lang = lang\n",
    "        "
   ]
  },
  {
   "cell_type": "code",
   "execution_count": 60,
   "metadata": {},
   "outputs": [
    {
     "name": "stdout",
     "output_type": "stream",
     "text": [
      "Tom.Sawyer@weber.edu\n",
      "{'first': 'Tom', 'email': 'Tom.Sawyer@weber.edu', 'last': 'Sawyer', 'lang': 'python', 'pay': 50}\n",
      "{'first': 'Huck', 'email': 'Huck.Finn@weber.edu', 'last': 'Finn', 'lang': 'java', 'pay': 60}\n"
     ]
    }
   ],
   "source": [
    "d1 = Developer(\"Tom\", \"Sawyer\", 50, \"python\")\n",
    "d2 = Developer(\"Huck\", \"Finn\", 60, \"java\")\n",
    "print(d1.email)\n",
    "print(d1.__dict__)\n",
    "print(d2.__dict__)"
   ]
  },
  {
   "cell_type": "markdown",
   "metadata": {},
   "source": [
    "## Task\n",
    "Create a new task manager inheriteing from employee and takes an extra arguement a list of employees managed. If no employees are assigned, set it to None."
   ]
  },
  {
   "cell_type": "code",
   "execution_count": 38,
   "metadata": {
    "collapsed": true
   },
   "outputs": [],
   "source": [
    "class Manager(Employee):\n",
    "    #note do not pass mutable types as default paramters\n",
    "    def __init__(self, first, last, pay, reports=None):\n",
    "        super().__init__(first, last, pay)\n",
    "        if reports is None: \n",
    "            self.reports = []\n",
    "        else: \n",
    "            self.reports = reports\n",
    "            \n",
    "        "
   ]
  },
  {
   "cell_type": "code",
   "execution_count": 45,
   "metadata": {},
   "outputs": [
    {
     "name": "stdout",
     "output_type": "stream",
     "text": [
      "Bob.Smith@weber.edu\n"
     ]
    }
   ],
   "source": [
    "m1 = Manager(\"Bob\", \"Smith\", 70000, [d1])\n",
    "print(m1.email)"
   ]
  },
  {
   "cell_type": "code",
   "execution_count": 6,
   "metadata": {
    "collapsed": true
   },
   "outputs": [],
   "source": [
    "class Manager(Employee):\n",
    "    #note do not pass mutable types as default paramters\n",
    "    def __init__(self, first, last, pay, reports=None):\n",
    "        super().__init__(first, last, pay)\n",
    "        if reports is None: \n",
    "            self.reports = []\n",
    "        else: \n",
    "            self.reports = reports\n",
    "            \n",
    "    def add_emp(self, emp):\n",
    "        if emp not in self.reports:\n",
    "            self.reports.append(emp)\n",
    "            \n",
    "    def remove_emp(self, emp):\n",
    "        if emp in self.reports:\n",
    "            self.reports.remove(emp)\n",
    "            \n",
    "    def print_emp(self):\n",
    "        for emp in self.reports:\n",
    "            print(\"-->\", emp.fullname)"
   ]
  },
  {
   "cell_type": "code",
   "execution_count": 7,
   "metadata": {},
   "outputs": [
    {
     "name": "stdout",
     "output_type": "stream",
     "text": [
      "Bob.Smith@weber.edu\n",
      "--> Tom Sawyer\n"
     ]
    }
   ],
   "source": [
    "m1 = Manager(\"Bob\", \"Smith\", 70000, [d1])\n",
    "print(m1.email)\n",
    "m1.print_emp()"
   ]
  },
  {
   "cell_type": "code",
   "execution_count": 8,
   "metadata": {},
   "outputs": [],
   "source": [
    "m1.add_emp(d2)\n"
   ]
  },
  {
   "cell_type": "code",
   "execution_count": 9,
   "metadata": {},
   "outputs": [
    {
     "name": "stdout",
     "output_type": "stream",
     "text": [
      "--> Tom Sawyer\n",
      "--> Huck Finn\n"
     ]
    }
   ],
   "source": [
    "m1.print_emp()"
   ]
  },
  {
   "cell_type": "code",
   "execution_count": 10,
   "metadata": {},
   "outputs": [
    {
     "name": "stdout",
     "output_type": "stream",
     "text": [
      "{'reports': [<__main__.Developer object at 0x0000025AF3F09B00>, <__main__.Developer object at 0x0000025AF3F09B38>], 'first': 'Bob', 'pay': 70000, 'last': 'Smith', 'email': 'Bob.Smith@weber.edu'}\n"
     ]
    }
   ],
   "source": [
    "print(m1.__dict__)"
   ]
  },
  {
   "cell_type": "code",
   "execution_count": null,
   "metadata": {
    "collapsed": true
   },
   "outputs": [],
   "source": []
  }
 ],
 "metadata": {
  "kernelspec": {
   "display_name": "Python 3",
   "language": "python",
   "name": "python3"
  },
  "language_info": {
   "codemirror_mode": {
    "name": "ipython",
    "version": 3
   },
   "file_extension": ".py",
   "mimetype": "text/x-python",
   "name": "python",
   "nbconvert_exporter": "python",
   "pygments_lexer": "ipython3",
   "version": "3.5.1"
  }
 },
 "nbformat": 4,
 "nbformat_minor": 2
}
