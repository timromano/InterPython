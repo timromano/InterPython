{
 "cells": [
  {
   "cell_type": "markdown",
   "metadata": {},
   "source": [
    "## Local Fucntion Review\n"
   ]
  },
  {
   "cell_type": "code",
   "execution_count": 4,
   "metadata": {
    "collapsed": true
   },
   "outputs": [],
   "source": [
    "def outer_function():\n",
    "    message = \"Hi\"\n",
    "    def inner_function():\n",
    "        print(message)\n",
    "    return inner_function()"
   ]
  },
  {
   "cell_type": "code",
   "execution_count": 5,
   "metadata": {},
   "outputs": [
    {
     "name": "stdout",
     "output_type": "stream",
     "text": [
      "Hi\n"
     ]
    }
   ],
   "source": [
    "outer_function()"
   ]
  },
  {
   "cell_type": "code",
   "execution_count": 15,
   "metadata": {
    "collapsed": true
   },
   "outputs": [],
   "source": [
    "def outer_function(msg):\n",
    "    message = msg\n",
    "    def inner_function():\n",
    "        print(message)\n",
    "        \n",
    "    #return the fucntion object\n",
    "    return inner_function"
   ]
  },
  {
   "cell_type": "code",
   "execution_count": 19,
   "metadata": {},
   "outputs": [],
   "source": [
    "my_func=outer_function(\"hi\")\n",
    "bye_func=outer_function(\"bye\")"
   ]
  },
  {
   "cell_type": "code",
   "execution_count": 21,
   "metadata": {},
   "outputs": [
    {
     "name": "stdout",
     "output_type": "stream",
     "text": [
      "hi\n",
      "bye\n"
     ]
    }
   ],
   "source": [
    "my_func()\n",
    "bye_func()"
   ]
  },
  {
   "cell_type": "code",
   "execution_count": 23,
   "metadata": {},
   "outputs": [],
   "source": [
    "def outer_function(msg):\n",
    "    def inner_function():\n",
    "        print(msg)\n",
    "        \n",
    "    #return the fucntion object\n",
    "    return inner_function"
   ]
  },
  {
   "cell_type": "code",
   "execution_count": 24,
   "metadata": {},
   "outputs": [
    {
     "name": "stdout",
     "output_type": "stream",
     "text": [
      "hi\n",
      "bye\n"
     ]
    }
   ],
   "source": [
    "my_func=outer_function(\"hi\")\n",
    "bye_func=outer_function(\"bye\")\n",
    "my_func()\n",
    "bye_func()"
   ]
  },
  {
   "cell_type": "markdown",
   "metadata": {},
   "source": [
    "## Decorators\n",
    "- A fucntion that takes another function as an arguement\n",
    "- Adds some functionality\n",
    "- Returns another function\n",
    "- All of this without altering the original function"
   ]
  },
  {
   "cell_type": "code",
   "execution_count": 28,
   "metadata": {
    "collapsed": true
   },
   "outputs": [],
   "source": [
    "def decorator_function(original_function):\n",
    "    def wrapper_function():\n",
    "        return original_function()\n",
    "    #return function object\n",
    "    return wrapper_function\n",
    "\n",
    "def display():\n",
    "    print(\"The display function ran.\")"
   ]
  },
  {
   "cell_type": "code",
   "execution_count": 32,
   "metadata": {},
   "outputs": [
    {
     "name": "stdout",
     "output_type": "stream",
     "text": [
      "<function decorator_function.<locals>.wrapper_function at 0x000002141A0671E0>\n",
      "<class 'function'>\n",
      "The display function ran.\n"
     ]
    }
   ],
   "source": [
    "#test it\n",
    "decorated_display = decorator_function(display)\n",
    "print(decorated_display)\n",
    "print(type(decorated_display))\n",
    "decorated_display()"
   ]
  },
  {
   "cell_type": "markdown",
   "metadata": {},
   "source": [
    "## Make it more interesting"
   ]
  },
  {
   "cell_type": "code",
   "execution_count": 42,
   "metadata": {
    "collapsed": true
   },
   "outputs": [],
   "source": [
    "def decorator_function(original_function):\n",
    "    def wrapper_function():\n",
    "        print(\"Wrappper executed this before {}.\".format(original_function.__name__))\n",
    "        return original_function()\n",
    "    #return function object\n",
    "    return wrapper_function\n",
    "\n",
    "def display():\n",
    "    print(\"The display function ran.\")"
   ]
  },
  {
   "cell_type": "code",
   "execution_count": 43,
   "metadata": {},
   "outputs": [
    {
     "name": "stdout",
     "output_type": "stream",
     "text": [
      "<function decorator_function.<locals>.wrapper_function at 0x0000021419FDB620>\n",
      "<class 'function'>\n",
      "Wrappper executed this before display.\n",
      "The display function ran.\n"
     ]
    }
   ],
   "source": [
    "#test it\n",
    "decorated_display = decorator_function(display)\n",
    "print(decorated_display)\n",
    "print(type(decorated_display))\n",
    "decorated_display()"
   ]
  },
  {
   "cell_type": "markdown",
   "metadata": {},
   "source": [
    "## More decorations\n",
    "use the @Decorator_function_name"
   ]
  },
  {
   "cell_type": "code",
   "execution_count": 45,
   "metadata": {},
   "outputs": [],
   "source": [
    "def decorator_function(original_function):\n",
    "    def wrapper_function():\n",
    "        print(\"Wrappper executed this before {}.\".format(original_function.__name__))\n",
    "        return original_function()\n",
    "    #return function object\n",
    "    return wrapper_function\n",
    "\n",
    "@decorator_function\n",
    "def display():\n",
    "    print(\"The display function ran.\")"
   ]
  },
  {
   "cell_type": "code",
   "execution_count": 46,
   "metadata": {},
   "outputs": [
    {
     "name": "stdout",
     "output_type": "stream",
     "text": [
      "Wrappper executed this before display.\n",
      "The display function ran.\n"
     ]
    }
   ],
   "source": [
    "#test it\n",
    "display()"
   ]
  },
  {
   "cell_type": "markdown",
   "metadata": {},
   "source": [
    "This will not work if the original function takes arguements"
   ]
  },
  {
   "cell_type": "code",
   "execution_count": 51,
   "metadata": {},
   "outputs": [],
   "source": [
    "@decorator_function\n",
    "def display_info(name, age):\n",
    "    print(\"display ran with arguements({}, {})\".format(name, age))\n"
   ]
  },
  {
   "cell_type": "code",
   "execution_count": 52,
   "metadata": {},
   "outputs": [
    {
     "ename": "TypeError",
     "evalue": "wrapper_function() takes 0 positional arguments but 2 were given",
     "output_type": "error",
     "traceback": [
      "\u001b[1;31m---------------------------------------------------------------------------\u001b[0m",
      "\u001b[1;31mTypeError\u001b[0m                                 Traceback (most recent call last)",
      "\u001b[1;32m<ipython-input-52-8b5c0e2bbbfb>\u001b[0m in \u001b[0;36m<module>\u001b[1;34m()\u001b[0m\n\u001b[1;32m----> 1\u001b[1;33m \u001b[0mdisplay_info\u001b[0m\u001b[1;33m(\u001b[0m\u001b[1;34m\"Mario\"\u001b[0m\u001b[1;33m,\u001b[0m \u001b[1;36m21\u001b[0m\u001b[1;33m)\u001b[0m\u001b[1;33m\u001b[0m\u001b[0m\n\u001b[0m",
      "\u001b[1;31mTypeError\u001b[0m: wrapper_function() takes 0 positional arguments but 2 were given"
     ]
    }
   ],
   "source": [
    "display_info(\"Mario\", 21)"
   ]
  },
  {
   "cell_type": "markdown",
   "metadata": {},
   "source": [
    "## Need to fix the wrapper.\n",
    "We can fix this with **\\*args** and **\\*\\*kwargs**."
   ]
  },
  {
   "cell_type": "code",
   "execution_count": 53,
   "metadata": {
    "collapsed": true
   },
   "outputs": [],
   "source": [
    "def decorator_function(original_function):\n",
    "    def wrapper_function(*args, **kwargs):\n",
    "        print(\"Wrappper executed this before {}.\".format(original_function.__name__))\n",
    "        return original_function(*args, **kwargs)\n",
    "    #return function object\n",
    "    return wrapper_function\n",
    "\n",
    "@decorator_function\n",
    "def display():\n",
    "    print(\"The display function ran.\")\n",
    "    \n",
    "@decorator_function\n",
    "def display_info(name, age):\n",
    "    print(\"display ran with arguements({}, {})\".format(name, age))"
   ]
  },
  {
   "cell_type": "code",
   "execution_count": 56,
   "metadata": {},
   "outputs": [
    {
     "name": "stdout",
     "output_type": "stream",
     "text": [
      "Wrappper executed this before display.\n",
      "The display function ran.\n",
      "\n",
      "Wrappper executed this before display_info.\n",
      "display ran with arguements(Mario, 21)\n"
     ]
    }
   ],
   "source": [
    "display()\n",
    "print()\n",
    "display_info(\"Mario\", 21)"
   ]
  },
  {
   "cell_type": "markdown",
   "metadata": {},
   "source": [
    "## Task:\n",
    "Define a decortor escape unicode\n",
    "Convert to ascii and return the equivilant.\n"
   ]
  },
  {
   "cell_type": "code",
   "execution_count": 70,
   "metadata": {},
   "outputs": [],
   "source": [
    "def escape_unicode(f):\n",
    "    def wrapper(*args, **kwargs):\n",
    "        print(\"Wrappper executed this before {}.\".format(f.__name__))\n",
    "        x = f(*args, **kwargs)\n",
    "        return ascii(x)\n",
    "    return wrapper\n",
    "\n",
    "@escape_unicode\n",
    "def mexico_city():\n",
    "    #alt 130 for é.\n",
    "    return \"México City\" "
   ]
  },
  {
   "cell_type": "code",
   "execution_count": 71,
   "metadata": {},
   "outputs": [
    {
     "name": "stdout",
     "output_type": "stream",
     "text": [
      "Wrappper executed this before mexico_city.\n"
     ]
    },
    {
     "data": {
      "text/plain": [
       "\"'M\\\\xe9xico City'\""
      ]
     },
     "execution_count": 71,
     "metadata": {},
     "output_type": "execute_result"
    }
   ],
   "source": [
    "mexico_city()"
   ]
  },
  {
   "cell_type": "markdown",
   "metadata": {},
   "source": [
    "#### What can be a decorator?\n",
    "- Class object, which can be callable with the dunder call.\n",
    "- Functions as decorators\n",
    "\n",
    "### Classes as decorators"
   ]
  },
  {
   "cell_type": "code",
   "execution_count": 75,
   "metadata": {
    "collapsed": true
   },
   "outputs": [],
   "source": [
    "class DecoratorClass(object):\n",
    "    def __init__(self, original_function):\n",
    "        self.original_function = original_function\n",
    "        \n",
    "    def __call__(self, *args, **kwargs):\n",
    "        print(\"Call method executed this before {}.\".format(self.original_function))\n",
    "        return self.original_function(*args, **kwargs)\n",
    "    \n",
    "@DecoratorClass\n",
    "def display():\n",
    "    print(\"The display function ran.\")\n",
    "    \n",
    "@DecoratorClass\n",
    "def display_info(name, age):\n",
    "    print(\"display ran with arguements({}, {})\".format(name, age))"
   ]
  },
  {
   "cell_type": "code",
   "execution_count": 76,
   "metadata": {},
   "outputs": [
    {
     "name": "stdout",
     "output_type": "stream",
     "text": [
      "Call method executed this before <function display at 0x000002141A057EA0>.\n",
      "The display function ran.\n",
      "\n",
      "Call method executed this before <function display_info at 0x000002141A057F28>.\n",
      "display ran with arguements(Mario, 21)\n"
     ]
    }
   ],
   "source": [
    "display()\n",
    "print()\n",
    "display_info(\"Mario\", 21)"
   ]
  },
  {
   "cell_type": "code",
   "execution_count": 89,
   "metadata": {},
   "outputs": [],
   "source": [
    "class Trace:\n",
    "    def __init__(self):\n",
    "        self._enable = True\n",
    "        \n",
    "    def __call__(self, f):\n",
    "        def wrap(*args, **kwargs):\n",
    "            if self._enable:\n",
    "                print(\"Calling {}.\".format(f.__name__))\n",
    "            return f(*args, **kwargs)\n",
    "        return wrap\n",
    "    \n",
    "tracer = Trace()\n",
    "\n",
    "@tracer\n",
    "def rotate_list(l):\n",
    "    return l[1:]+ [l[0]]"
   ]
  },
  {
   "cell_type": "markdown",
   "metadata": {},
   "source": [
    "Unlike our previous example, the **class object its self** is not the decorator. The instance of trace here is the decorator. "
   ]
  },
  {
   "cell_type": "code",
   "execution_count": 91,
   "metadata": {},
   "outputs": [
    {
     "name": "stdout",
     "output_type": "stream",
     "text": [
      "Calling rotate_list.\n"
     ]
    }
   ],
   "source": [
    "l1 = [1, 2, 3, 4]\n",
    "l1 = rotate_list(l1)"
   ]
  },
  {
   "cell_type": "code",
   "execution_count": 92,
   "metadata": {},
   "outputs": [
    {
     "data": {
      "text/plain": [
       "[2, 3, 4, 1]"
      ]
     },
     "execution_count": 92,
     "metadata": {},
     "output_type": "execute_result"
    }
   ],
   "source": [
    "l1"
   ]
  },
  {
   "cell_type": "code",
   "execution_count": 127,
   "metadata": {},
   "outputs": [],
   "source": [
    "class Trace:\n",
    "    def __init__(self):\n",
    "        self._enable = True\n",
    "        \n",
    "    def __call__(self, f):\n",
    "        def wrap(*args, **kwargs):\n",
    "            if self._enable:\n",
    "                print(\"Calling {}.\".format(f.__name__))\n",
    "            return f(*args, **kwargs)\n",
    "        return wrap\n",
    "    \n",
    "tracer2 = Trace()\n",
    "\n",
    "@tracer2\n",
    "def rotate_list(l):\n",
    "    return l[1:]+ [l[0]]\n",
    "\n",
    "tracer2._enable = False\n",
    "l1 = [1, 2, 3, 4]\n",
    "l2 = rotate_list(l1)"
   ]
  },
  {
   "cell_type": "code",
   "execution_count": 139,
   "metadata": {
    "collapsed": true
   },
   "outputs": [],
   "source": [
    "import time\n",
    "\n",
    "def my_timer(original_func):\n",
    "    def wrapper(*args, **kwargs):\n",
    "        t1 = time.time()\n",
    "        result = original_func(*args, **kwargs)\n",
    "        t2 = time.time() - t1\n",
    "        print (\"{} ran in: {}\".format(original_func.__name__, t2))\n",
    "        return result\n",
    "    return wrapper\n",
    "\n",
    "@my_timer\n",
    "def display_info(name, age):\n",
    "    time.sleep(1)\n",
    "    print(\"display ran with arguements({}, {})\".format(name, age))\n",
    "    "
   ]
  },
  {
   "cell_type": "code",
   "execution_count": 140,
   "metadata": {},
   "outputs": [
    {
     "name": "stdout",
     "output_type": "stream",
     "text": [
      "display ran with arguements(Mario, 21)\n",
      "display_info ran in: 1.0088765621185303\n"
     ]
    }
   ],
   "source": [
    "display_info(\"Mario\", 21)"
   ]
  },
  {
   "cell_type": "markdown",
   "metadata": {},
   "source": [
    "## Multiple Decorators"
   ]
  },
  {
   "cell_type": "code",
   "execution_count": 138,
   "metadata": {},
   "outputs": [],
   "source": [
    "def my_logger(original_func):\n",
    "    import logging\n",
    "    logging.basicConfig(filename='{}.log'.format(original_func.__name__), level=logging.INFO)\n",
    "    def wrapper(*args, **kwargs):\n",
    "        logging.info(\n",
    "        \"Ran with args: {}, and kwargs {}.\".format(args, kwargs))\n",
    "        return original_func(*args, *kwargs)\n",
    "    return wrapper\n",
    "    \n",
    "@my_logger\n",
    "def display_info(name, age):\n",
    "    time.sleep(1)\n",
    "    print(\"display ran with arguements({}, {})\".format(name, age))\n",
    "    "
   ]
  },
  {
   "cell_type": "code",
   "execution_count": 120,
   "metadata": {},
   "outputs": [
    {
     "name": "stdout",
     "output_type": "stream",
     "text": [
      "display ran with arguements(Mario, 21)\n"
     ]
    }
   ],
   "source": [
    "display_info(\"Mario\", 21)"
   ]
  },
  {
   "cell_type": "code",
   "execution_count": 141,
   "metadata": {},
   "outputs": [
    {
     "name": "stdout",
     "output_type": "stream",
     "text": [
      "display ran with arguements(Mario, 21)\n",
      "wrapper ran in: 1.0002362728118896\n"
     ]
    }
   ],
   "source": [
    "#Now with multiple decorators\n",
    "@my_timer\n",
    "@my_logger\n",
    "def display_info(name, age):\n",
    "    time.sleep(1)\n",
    "    print(\"display ran with arguements({}, {})\".format(name, age))\n",
    "\n",
    "#test it\n",
    "display_info(\"Mario\", 21)"
   ]
  },
  {
   "cell_type": "code",
   "execution_count": 142,
   "metadata": {},
   "outputs": [
    {
     "name": "stdout",
     "output_type": "stream",
     "text": [
      "display ran with arguements(Mario, 21)\n",
      "display_info ran in: 1.0003445148468018\n"
     ]
    }
   ],
   "source": [
    "@my_logger\n",
    "@my_timer\n",
    "def display_info(name, age):\n",
    "    time.sleep(1)\n",
    "    print(\"display ran with arguements({}, {})\".format(name, age))\n",
    "\n",
    "#test it\n",
    "display_info(\"Mario\", 21)"
   ]
  },
  {
   "cell_type": "markdown",
   "metadata": {},
   "source": [
    "Wrap everything"
   ]
  },
  {
   "cell_type": "code",
   "execution_count": 131,
   "metadata": {},
   "outputs": [],
   "source": [
    "import time\n",
    "from functools import wraps\n",
    "\n",
    "def my_logger(original_func):\n",
    "    import logging\n",
    "    logging.basicConfig(filename='{}.log'.format(original_func.__name__), level=logging.INFO)\n",
    "    @wraps(original_func)\n",
    "    def wrapper(*args, **kwargs):\n",
    "        logging.info(\n",
    "        \"Ran with args: {}, and kwargs {}.\".format(args, kwargs))\n",
    "        return original_func(*args, *kwargs)\n",
    "    return wrapper\n",
    "\n",
    "def my_timer(original_func):\n",
    "    @wraps(original_func)\n",
    "    def wrapper(*args, **kwargs):\n",
    "        t1 = time.time()\n",
    "        result = original_func(*args, **kwargs)\n",
    "        t2 = time.time() - t1\n",
    "        print (\"{} ran in: {}\".format(original_func.__name__, t2))\n",
    "        return result\n",
    "    return wrapper"
   ]
  },
  {
   "cell_type": "code",
   "execution_count": 135,
   "metadata": {},
   "outputs": [
    {
     "name": "stdout",
     "output_type": "stream",
     "text": [
      "display ran with arguements(Mario, 21)\n",
      "display_info ran in: 1.0001890659332275\n"
     ]
    }
   ],
   "source": [
    "@my_logger\n",
    "@my_timer\n",
    "def display_info(name, age):\n",
    "    time.sleep(1)\n",
    "    print(\"display ran with arguements({}, {})\".format(name, age))\n",
    "\n",
    "#test it\n",
    "display_info(\"Mario\", 21)"
   ]
  },
  {
   "cell_type": "code",
   "execution_count": 134,
   "metadata": {},
   "outputs": [
    {
     "name": "stdout",
     "output_type": "stream",
     "text": [
      "display ran with arguements(Mario, 21)\n",
      "display_info ran in: 1.000190019607544\n"
     ]
    }
   ],
   "source": [
    "@my_timer\n",
    "@my_logger\n",
    "def display_info(name, age):\n",
    "    time.sleep(1)\n",
    "    print(\"display ran with arguements({}, {})\".format(name, age))\n",
    "\n",
    "#test it\n",
    "display_info(\"Mario\", 21)"
   ]
  },
  {
   "cell_type": "code",
   "execution_count": null,
   "metadata": {
    "collapsed": true
   },
   "outputs": [],
   "source": []
  }
 ],
 "metadata": {
  "kernelspec": {
   "display_name": "Python 3",
   "language": "python",
   "name": "python3"
  },
  "language_info": {
   "codemirror_mode": {
    "name": "ipython",
    "version": 3
   },
   "file_extension": ".py",
   "mimetype": "text/x-python",
   "name": "python",
   "nbconvert_exporter": "python",
   "pygments_lexer": "ipython3",
   "version": "3.5.1"
  }
 },
 "nbformat": 4,
 "nbformat_minor": 2
}
