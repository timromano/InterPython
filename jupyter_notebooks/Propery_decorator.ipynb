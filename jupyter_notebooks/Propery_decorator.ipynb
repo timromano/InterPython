{
 "cells": [
  {
   "cell_type": "code",
   "execution_count": 2,
   "metadata": {
    "collapsed": true
   },
   "outputs": [],
   "source": [
    "class Employee:\n",
    "    def __init__(self, first, last):\n",
    "        self.first = first\n",
    "        self.last = last\n",
    "        self.email = self.first + \".\" + self.last + \"@weber.edu\""
   ]
  },
  {
   "cell_type": "code",
   "execution_count": 4,
   "metadata": {},
   "outputs": [
    {
     "name": "stdout",
     "output_type": "stream",
     "text": [
      "Tim.Romano@weber.edu\n"
     ]
    }
   ],
   "source": [
    "e1 = Employee(\"Tim\", \"Romano\")\n",
    "print(e1.email)"
   ]
  },
  {
   "cell_type": "markdown",
   "metadata": {},
   "source": [
    "Update the email create a method like **fullname**\n",
    "\n",
    "Problem people who already have the property will beak their code. The need the change the email attribute to a method."
   ]
  },
  {
   "cell_type": "code",
   "execution_count": 8,
   "metadata": {
    "collapsed": true
   },
   "outputs": [],
   "source": [
    "class Employee:\n",
    "    def __init__(self, first, last):\n",
    "        self.first = first\n",
    "        self.last = last\n",
    "        #self.email = self.first + \".\" + self.last + \"@weber.edu\"\n",
    "        \n",
    "    def email(self):\n",
    "        return \"{}.{}@weber.edu\".format(self.first, self.last)\n",
    "        \n",
    "    def fullname(self):\n",
    "        return \"{} {}\".format(self.first, self.last)"
   ]
  },
  {
   "cell_type": "code",
   "execution_count": 10,
   "metadata": {},
   "outputs": [
    {
     "name": "stdout",
     "output_type": "stream",
     "text": [
      "<bound method Employee.email of <__main__.Employee object at 0x0000012AB42BB828>>\n",
      "Tim.Romano@weber.edu\n"
     ]
    }
   ],
   "source": [
    "e1 = Employee(\"Tim\", \"Romano\")\n",
    "print(e1.email)\n",
    "print(e1.email())"
   ]
  },
  {
   "cell_type": "markdown",
   "metadata": {},
   "source": [
    "Use the **@property** decorator\n",
    "This is the equivilent of a \"getter\" from other languages. "
   ]
  },
  {
   "cell_type": "code",
   "execution_count": 11,
   "metadata": {
    "collapsed": true
   },
   "outputs": [],
   "source": [
    "class Employee:\n",
    "    def __init__(self, first, last):\n",
    "        self.first = first\n",
    "        self.last = last\n",
    "        #self.email = self.first + \".\" + self.last + \"@weber.edu\"\n",
    "    \n",
    "    @property    \n",
    "    def email(self):\n",
    "        return \"{}.{}@weber.edu\".format(self.first, self.last)\n",
    "        \n",
    "    @property\n",
    "    def fullname(self):\n",
    "        return \"{} {}\".format(self.first, self.last)"
   ]
  },
  {
   "cell_type": "code",
   "execution_count": 15,
   "metadata": {},
   "outputs": [
    {
     "name": "stdout",
     "output_type": "stream",
     "text": [
      "Tim.Romano@weber.edu\n"
     ]
    }
   ],
   "source": [
    "e1 = Employee(\"Tim\", \"Romano\")\n",
    "print(e1.email)"
   ]
  },
  {
   "cell_type": "code",
   "execution_count": 16,
   "metadata": {},
   "outputs": [
    {
     "ename": "AttributeError",
     "evalue": "can't set attribute",
     "output_type": "error",
     "traceback": [
      "\u001b[1;31m---------------------------------------------------------------------------\u001b[0m",
      "\u001b[1;31mAttributeError\u001b[0m                            Traceback (most recent call last)",
      "\u001b[1;32m<ipython-input-16-a7c8dbbda922>\u001b[0m in \u001b[0;36m<module>\u001b[1;34m()\u001b[0m\n\u001b[1;32m----> 1\u001b[1;33m \u001b[0me1\u001b[0m\u001b[1;33m.\u001b[0m\u001b[0mfullname\u001b[0m \u001b[1;33m=\u001b[0m \u001b[1;34m\"Jon Smith\"\u001b[0m\u001b[1;33m\u001b[0m\u001b[0m\n\u001b[0m",
      "\u001b[1;31mAttributeError\u001b[0m: can't set attribute"
     ]
    }
   ],
   "source": [
    "e1.fullname = \"Jon Smith\""
   ]
  },
  {
   "cell_type": "markdown",
   "metadata": {},
   "source": [
    "## Setters\n",
    "Another decorator for setters. **@method.setter**<br>\n",
    "Example **@fullname.setter**"
   ]
  },
  {
   "cell_type": "code",
   "execution_count": 18,
   "metadata": {
    "collapsed": true
   },
   "outputs": [],
   "source": [
    "class Employee:\n",
    "    def __init__(self, first, last):\n",
    "        self.first = first\n",
    "        self.last = last\n",
    "        #self.email = self.first + \".\" + self.last + \"@weber.edu\"\n",
    "    \n",
    "    @property    \n",
    "    def email(self):\n",
    "        return \"{}.{}@weber.edu\".format(self.first, self.last)\n",
    "        \n",
    "    @property\n",
    "    def fullname(self):\n",
    "        return \"{} {}\".format(self.first, self.last)\n",
    "    \n",
    "    @fullname.setter\n",
    "    def fullname(self, name):\n",
    "        first, last = name.split(\" \")\n",
    "        self.first = first\n",
    "        self.last = last"
   ]
  },
  {
   "cell_type": "code",
   "execution_count": 19,
   "metadata": {},
   "outputs": [
    {
     "name": "stdout",
     "output_type": "stream",
     "text": [
      "Tim.Romano@weber.edu\n"
     ]
    }
   ],
   "source": [
    "e1 = Employee(\"Tim\", \"Romano\")\n",
    "print(e1.email)"
   ]
  },
  {
   "cell_type": "code",
   "execution_count": 20,
   "metadata": {},
   "outputs": [
    {
     "name": "stdout",
     "output_type": "stream",
     "text": [
      "Jon.Smith@weber.edu\n"
     ]
    }
   ],
   "source": [
    "e1.fullname = \"Jon Smith\"\n",
    "print(e1.email)"
   ]
  },
  {
   "cell_type": "markdown",
   "metadata": {},
   "source": [
    "### Deleters\n",
    "To do some clean up. Not as common."
   ]
  },
  {
   "cell_type": "code",
   "execution_count": 21,
   "metadata": {
    "collapsed": true
   },
   "outputs": [],
   "source": [
    "class Employee:\n",
    "    def __init__(self, first, last):\n",
    "        self.first = first\n",
    "        self.last = last\n",
    "        #self.email = self.first + \".\" + self.last + \"@weber.edu\"\n",
    "    \n",
    "    @property    \n",
    "    def email(self):\n",
    "        return \"{}.{}@weber.edu\".format(self.first, self.last)\n",
    "        \n",
    "    @property\n",
    "    def fullname(self):\n",
    "        return \"{} {}\".format(self.first, self.last)\n",
    "    \n",
    "    @fullname.setter\n",
    "    def fullname(self, name):\n",
    "        first, last = name.split(\" \")\n",
    "        self.first = first\n",
    "        self.last = last\n",
    "        \n",
    "    @fullname.deleter\n",
    "    def fullname(self):\n",
    "        print(\"Delete name\")\n",
    "        self.first = None\n",
    "        self.last = None"
   ]
  },
  {
   "cell_type": "code",
   "execution_count": 24,
   "metadata": {},
   "outputs": [
    {
     "name": "stdout",
     "output_type": "stream",
     "text": [
      "Tim.Romano@weber.edu\n",
      "Delete name\n",
      "None None\n"
     ]
    }
   ],
   "source": [
    "e1 = Employee(\"Tim\", \"Romano\")\n",
    "print(e1.email)\n",
    "\n",
    "del e1.fullname\n",
    "print(e1.fullname)\n"
   ]
  },
  {
   "cell_type": "markdown",
   "metadata": {
    "collapsed": true
   },
   "source": [
    "## Static Methods with Inheritence\n",
    "\n",
    "Unlike other languages, static methods can be over written in sub-classes."
   ]
  },
  {
   "cell_type": "markdown",
   "metadata": {},
   "source": [
    "### Class Methods with Inheritence\n",
    "We have the ability to have class methods behave only polymorphically as a distinguished feature of Python. This invocation works becuase the base class dunder init method is inherited into the class. "
   ]
  },
  {
   "cell_type": "markdown",
   "metadata": {},
   "source": []
  },
  {
   "cell_type": "code",
   "execution_count": null,
   "metadata": {
    "collapsed": true
   },
   "outputs": [],
   "source": []
  }
 ],
 "metadata": {
  "kernelspec": {
   "display_name": "Python 3",
   "language": "python",
   "name": "python3"
  },
  "language_info": {
   "codemirror_mode": {
    "name": "ipython",
    "version": 3
   },
   "file_extension": ".py",
   "mimetype": "text/x-python",
   "name": "python",
   "nbconvert_exporter": "python",
   "pygments_lexer": "ipython3",
   "version": "3.5.1"
  }
 },
 "nbformat": 4,
 "nbformat_minor": 2
}
