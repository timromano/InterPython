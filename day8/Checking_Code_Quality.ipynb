{
 "cells": [
  {
   "cell_type": "markdown",
   "metadata": {},
   "source": [
    "# Checking code Quality with Pylint\n",
    "1. The quality of your code will improve if you follow the pep 8 style guide for Python code.\n",
    "    - Code layout\n",
    "    - Whitespace\n",
    "    - Comments\n",
    "    - Naming Conventions\n",
    "2. Convention Layout \n",
    "    - It is about making your code readable\n",
    "    - Indentation: 4 spaces per level, not tabs. \n",
    "    - Line Length: 79 characthers\n",
    "    - Blank lines:\n",
    "        - Two lines between top-level functions and classes\n",
    "        - One line between methods inside a class\n",
    "    - Imports\n",
    "    - Use of spaces in expressions\n",
    "    - If you dont know the rules, your tools will tell you. \n",
    "3. Other tools about documentaiton and naming \n",
    "    - Naming\n",
    "        - Modules short name, lowercase, \n",
    "        - Classes CapitalizeName (CapWords)\n",
    "        - Concstants: ALL_CAPS\n",
    "        - Non-public members: start with underscore \"\\_\"\n",
    "4. Many more programming recommendaitons"
   ]
  },
  {
   "cell_type": "markdown",
   "metadata": {},
   "source": [
    "# UML Diagrams in PyCharm\n",
    "Make sure UML diagram plugin is enabled.\n",
    ">Settings Prefrences"
   ]
  },
  {
   "cell_type": "markdown",
   "metadata": {},
   "source": [
    "# Documenting your code with Sphinx\n",
    "- Follows PEP 257 - Pep 257 expands on PEP 8 and specifies hwo to do docstrings.\n",
    "- Semantics and conventions associated with python docstrings. \n",
    "    - If you violate the conventions, the worst you will get is bad looks\n",
    "- Docstrings\n",
    "    - Strings as first statements of a module, function, class, or method\n",
    "    - Becomes the \\_\\_doc\\_\\_ special attribute of the object.\n",
    "- Main convention \n",
    "    - Always use triple double quotes \"\"\" \"\"\"\n",
    "    - A phrase ending in a period.\n",
    "    - For methods, specift a return value. \n",
    "    \n",
    "    "
   ]
  },
  {
   "cell_type": "markdown",
   "metadata": {},
   "source": [
    "## Create Documentation folder\n",
    "Create docs folder\n",
    "$mkdir docs\n",
    "\n",
    "To Run:\n",
    "$ sphinx-quickstart <package>\n",
    "\n",
    "Most of the defualt settign are fine. \n",
    "- Project \n",
    "- Name\n",
    "- Version\n",
    "\n",
    "When asking about output, make sure you say **yes** to **autodocumentaiton** "
   ]
  },
  {
   "cell_type": "markdown",
   "metadata": {},
   "source": [
    "Once it finished, open the **index.rst** file."
   ]
  },
  {
   "cell_type": "code",
   "execution_count": null,
   "metadata": {
    "collapsed": true
   },
   "outputs": [],
   "source": []
  }
 ],
 "metadata": {
  "kernelspec": {
   "display_name": "Python 3",
   "language": "python",
   "name": "python3"
  },
  "language_info": {
   "codemirror_mode": {
    "name": "ipython",
    "version": 3
   },
   "file_extension": ".py",
   "mimetype": "text/x-python",
   "name": "python",
   "nbconvert_exporter": "python",
   "pygments_lexer": "ipython3",
   "version": "3.5.1"
  }
 },
 "nbformat": 4,
 "nbformat_minor": 2
}
