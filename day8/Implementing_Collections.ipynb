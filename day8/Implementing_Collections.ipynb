{
 "cells": [
  {
   "cell_type": "markdown",
   "metadata": {},
   "source": [
    "# Implementing Collections\n",
    "Basic Collections:\n",
    "- list\n",
    "- dict\n",
    "- set\n",
    "- tuple\n",
    "- str\n",
    "- range\n",
    "\n",
    "## Sorted Set\n",
    "To define your own collection, you need to incorporate yo your class a set of new protocols:\n",
    "1. Container: Membership testing using **in** and **not_in**\n",
    "2. Size: determine the number of element **len**\n",
    "3. Iterable: can produce and iterator with **iter**. *for item in iterable: do_something*\n",
    "4. Sequence:\n",
    "    - Retrieve elements by index: item = seq[index]\n",
    "    - Find items by value: index = seq.index(item)\n",
    "    - Count items: num = seq.count(item)\n",
    "    - Produce a reverse sequence: r = reversed(seq)\n",
    "5. Set:\n",
    "    - Set algebra operaitons (methods and inflix operations)\n",
    "    - subset, proper subset, equal, not equal, superset, intersections, union, symetric differences, differences, \n",
    "6. Mutable sequence: ...\n",
    "7. Mutable set: ...\n",
    "8. Mutable mapping: ..."
   ]
  },
  {
   "cell_type": "markdown",
   "metadata": {},
   "source": [
    "## Collection Constructor\n",
    "Build a **SortedSet** A collection which is a **sized iterable sequence container** of a set of distinct items and constructable from an iterable. \n",
    "\n",
    "Follow simple **Test Driven Development (TDD)**<br>\n",
    "Note: Code in pycharms - Day8"
   ]
  },
  {
   "cell_type": "markdown",
   "metadata": {},
   "source": [
    "### Construction Convention\n",
    "colletions_from_iterable = Collection(iterable)<br>\n",
    "empty_collection = Collection()"
   ]
  },
  {
   "cell_type": "markdown",
   "metadata": {},
   "source": [
    "## The Container Protocol\n",
    "The first container we will implement the **container protocol**. This is the most fundamental of the collection protocols and simply lets us determine whether a particular item is present in:\n",
    "- Membership testing using **in** and **not in** (inflix operations)\n",
    "- Special methods: **\\_\\_contains\\_\\_**\n",
    "- Fallback to iterable protocol"
   ]
  },
  {
   "cell_type": "markdown",
   "metadata": {},
   "source": [
    "## The Sized Protocol\n",
    "Allows us to determine how many items are in a collection by passing it to a built-in fucntion which always returns a non-negative integer.\n",
    "- Number of items using len(sized) function\n",
    "- Must not consume or mordify collection.\n"
   ]
  },
  {
   "cell_type": "markdown",
   "metadata": {},
   "source": [
    "## The Iterable Protocol\n",
    "- Obtaining an iterator with **iter(iterable)** function \n",
    "- Special **dunder-iter()** method"
   ]
  },
  {
   "cell_type": "markdown",
   "metadata": {},
   "source": [
    "For refrence see: https://docs.python.org/3/library/collections.abc.html"
   ]
  },
  {
   "cell_type": "code",
   "execution_count": null,
   "metadata": {
    "collapsed": true
   },
   "outputs": [],
   "source": []
  }
 ],
 "metadata": {
  "kernelspec": {
   "display_name": "Python 3",
   "language": "python",
   "name": "python3"
  },
  "language_info": {
   "codemirror_mode": {
    "name": "ipython",
    "version": 3
   },
   "file_extension": ".py",
   "mimetype": "text/x-python",
   "name": "python",
   "nbconvert_exporter": "python",
   "pygments_lexer": "ipython3",
   "version": "3.5.1"
  }
 },
 "nbformat": 4,
 "nbformat_minor": 2
}
