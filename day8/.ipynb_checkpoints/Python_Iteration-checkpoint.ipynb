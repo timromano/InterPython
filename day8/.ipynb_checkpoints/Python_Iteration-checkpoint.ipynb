{
 "cells": [
  {
   "cell_type": "markdown",
   "metadata": {},
   "source": [
    "# Python Iteration\n",
    "- iter() creates and iterator\n",
    "- next() get rhe lement in the sequence\n",
    "- StopIteraiton signlas the end of the sequence\n",
    "\n",
    "Simple but powerful\n",
    "\n",
    "## Iterable\n",
    "An object whic implements the **dunder-iter** method which requires to return and iterator.\n",
    "\n",
    "First we look at iterators.\n",
    "\n",
    "## Iterator\n",
    "An object implementing the **iterable protocol**.\n",
    "\n"
   ]
  }
 ],
 "metadata": {
  "kernelspec": {
   "display_name": "Python 3",
   "language": "python",
   "name": "python3"
  },
  "language_info": {
   "codemirror_mode": {
    "name": "ipython",
    "version": 3
   },
   "file_extension": ".py",
   "mimetype": "text/x-python",
   "name": "python",
   "nbconvert_exporter": "python",
   "pygments_lexer": "ipython3",
   "version": "3.5.1"
  }
 },
 "nbformat": 4,
 "nbformat_minor": 2
}
